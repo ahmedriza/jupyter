{
 "cells": [
  {
   "cell_type": "code",
   "execution_count": 1,
   "metadata": {},
   "outputs": [],
   "source": [
    "import numpy as np\n",
    "import numpy.linalg as la\n",
    "\n",
    "verySmallNumber = 1e-14\n"
   ]
  },
  {
   "cell_type": "code",
   "execution_count": 2,
   "metadata": {},
   "outputs": [],
   "source": [
    "V = np.array([[1,0,2,6],\n",
    "             [0,1,8,2],\n",
    "             [2,8,3,1],\n",
    "             [1,-6,2,3]], dtype=np.float_)"
   ]
  },
  {
   "cell_type": "code",
   "execution_count": 3,
   "metadata": {},
   "outputs": [
    {
     "data": {
      "text/plain": [
       "array([[ 1.,  0.,  2.,  6.],\n",
       "       [ 0.,  1.,  8.,  2.],\n",
       "       [ 2.,  8.,  3.,  1.],\n",
       "       [ 1., -6.,  2.,  3.]])"
      ]
     },
     "execution_count": 3,
     "metadata": {},
     "output_type": "execute_result"
    }
   ],
   "source": [
    "V"
   ]
  },
  {
   "cell_type": "code",
   "execution_count": 4,
   "metadata": {},
   "outputs": [
    {
     "data": {
      "text/plain": [
       "array([1., 0., 2., 1.])"
      ]
     },
     "execution_count": 4,
     "metadata": {},
     "output_type": "execute_result"
    }
   ],
   "source": [
    "V[:,0]"
   ]
  },
  {
   "cell_type": "code",
   "execution_count": 5,
   "metadata": {},
   "outputs": [
    {
     "data": {
      "text/plain": [
       "array([ 0.,  1.,  8., -6.])"
      ]
     },
     "execution_count": 5,
     "metadata": {},
     "output_type": "execute_result"
    }
   ],
   "source": [
    "V[:,1]"
   ]
  },
  {
   "cell_type": "code",
   "execution_count": 36,
   "metadata": {},
   "outputs": [],
   "source": [
    "# Our first function will perform the Gram-Schmidt procedure for 4 basis vectors.\n",
    "# We'll take this list of vectors as the columns of a matrix, A.\n",
    "# We'll then go through the vectors one at a time and set them to be orthogonal \n",
    "# to all the vectors that came before it.  Before normalising.\n",
    "\n",
    "def gsBasis4(A):\n",
    "    B = np.array(A, dtype=np.float_) # Make B a copy of A, since we're going to alter it's values.\n",
    "    # The zeroth column is easy since it has no other vectors to make it normal to.\n",
    "    # All that needs to be done is to normalise it. i.e. divide by its modulus, or norm.\n",
    "    B[:,0] = B[:,0] / la.norm(B[:,0])\n",
    "    \n",
    "    # For the 1st column, we need to subtract any overlap with our new zeroth vector.\n",
    "    B[:,1] = B[:,1] - B[:,1] @ B[:,0] * B[:,0]\n",
    "    # If there is anything left after that subtraction, then B[:,1] is linearly independent of B[:,0]\n",
    "    # If this is the case, we can normalise it. Otherwise, we'll set that vector to zero.\n",
    "    if la.norm(B[:,1]) > verySmallNumber:\n",
    "        B[:,1] = B[:,1] / la.norm(B[:,1])\n",
    "    else:\n",
    "        B[:,1] = np.zeros_like(B[:,1])\n",
    "        \n",
    "    # Now we need to repeat the process for column 2.\n",
    "    # Insert two lines of code, the first to subtract the overlap with the zeroth vector,\n",
    "    # and the second to subtract the overlap with the first.\n",
    "    B[:,2] = B[:,2] - B[:,2] @ B[:,0] * B[:,0]\n",
    "    B[:,2] = B[:,2] - B[:,2] @ B[:,1] * B[:,1]\n",
    "    \n",
    "    # Again we'll need to normalise our new vector.\n",
    "    # Copy and adapt the normalisation fragment from above to column 2.\n",
    "    if la.norm(B[:,2]) > verySmallNumber :\n",
    "        B[:,2] = B[:,2] / la.norm(B[:,2])\n",
    "    else :\n",
    "        B[:,2] = np.zeros_like(B[:,2])\n",
    "    \n",
    "    # Finally, column three:\n",
    "    # Insert code to subtract the overlap with the first three vectors.\n",
    "    B[:,3] = B[:,3] - B[:,3] @ B[:,0] * B[:,0]\n",
    "    B[:,3] = B[:,3] - B[:,3] @ B[:,1] * B[:,1]\n",
    "    B[:,3] = B[:,3] - B[:,3] @ B[:,2] * B[:,2]\n",
    "    \n",
    "    # Now normalise if possible\n",
    "    if la.norm(B[:,3]) > verySmallNumber :\n",
    "        B[:,3] = B[:,3] / la.norm(B[:,3])\n",
    "    else :\n",
    "        B[:,3] = np.zeros_like(B[:,3])\n",
    "    \n",
    "    return B"
   ]
  },
  {
   "cell_type": "code",
   "execution_count": 59,
   "metadata": {},
   "outputs": [],
   "source": [
    "def gsBasis3(A) :\n",
    "    B = np.array(A, dtype=np.float_) # Make B as a copy of A, since we're going to alter it's values.\n",
    "    # The zeroth column is easy, since it has no other vectors to make it normal to.\n",
    "    # All that needs to be done is to normalise it. I.e. divide by its modulus, or norm.\n",
    "    B[:, 0] = B[:, 0] / la.norm(B[:, 0])\n",
    "    # For the first column, we need to subtract any overlap with our new zeroth vector.\n",
    "    B[:, 1] = B[:, 1] - B[:, 1] @ B[:, 0] * B[:, 0]\n",
    "    # If there's anything left after that subtraction, then B[:, 1] is linearly independant of B[:, 0]\n",
    "    # If this is the case, we can normalise it. Otherwise we'll set that vector to zero.\n",
    "    if la.norm(B[:, 1]) > verySmallNumber :\n",
    "        B[:, 1] = B[:, 1] / la.norm(B[:, 1])\n",
    "    else :\n",
    "        B[:, 1] = np.zeros_like(B[:, 1])\n",
    "    # Now we need to repeat the process for column 2.\n",
    "    # Insert two lines of code, the first to subtract the overlap with the zeroth vector,\n",
    "    # and the second to subtract the overlap with the first.\n",
    "    B[:,2] = B[:,2] - B[:,2] @ B[:,0] * B[:,0]\n",
    "    B[:,2] = B[:,2] - B[:,2] @ B[:,1] * B[:,1]    \n",
    "    \n",
    "    # Again we'll need to normalise our new vector.\n",
    "    # Copy and adapt the normalisation fragment from above to column 2.\n",
    "    if la.norm(B[:,2]) > verySmallNumber :\n",
    "        B[:,2] = B[:,2] / la.norm(B[:,2])\n",
    "    else :\n",
    "        B[:,2] = np.zeros_like(B[:,2])    \n",
    "       \n",
    "    # Finally, we return the result:\n",
    "    return B"
   ]
  },
  {
   "cell_type": "code",
   "execution_count": 75,
   "metadata": {},
   "outputs": [],
   "source": [
    "# The second part of this exercise will generalise the procedure.\n",
    "# Previously, we could only have four vectors, and there was a lot of repeating in the code.\n",
    "# We'll use a for-loop here to iterate the process for each vector.\n",
    "def gsBasis(A):\n",
    "    B = np.array(A, dtype=np.float_) # Make B a copy of A, since we're going to alter it's values.\n",
    "    # Loop over all vectors, starting with zero, label them with i\n",
    "    for i in range(B.shape[1]):\n",
    "        # Inside that loop, loop over all previous vectors, j, to subtract.\n",
    "        for j in range(i):\n",
    "            # Complete the code to subract the overlap with previous vectors.\n",
    "            # You'll need the current vector B[:,i] and a previous vector B[:,j]\n",
    "            B[:,i] = B[:,i] - B[:,i] @ B[:,j] * B[:,j]\n",
    "        # Next insert code to do the normalisation test for B[:,i]\n",
    "        if la.norm(B[:,i]) > verySmallNumber :\n",
    "            B[:,i] = B[:,i] / la.norm(B[:,i])\n",
    "        else :\n",
    "            B[:,i] = np.zeros_like(B[:,i])\n",
    "    # Finally return the result\n",
    "    return B"
   ]
  },
  {
   "cell_type": "code",
   "execution_count": 49,
   "metadata": {},
   "outputs": [],
   "source": [
    "# This function uses the Gram-Schmidt process to calculate the dimension \n",
    "# spanned by a list of vectors.\n",
    "# Since each vector is normalised to one, or is zero, \n",
    "# the sum of all the norms will be the dimension\n",
    "def dimension(A):\n",
    "    return np.sum(la.norm(gsBasis(A), axis = 0))"
   ]
  },
  {
   "cell_type": "code",
   "execution_count": 40,
   "metadata": {},
   "outputs": [
    {
     "data": {
      "text/plain": [
       "array([[ 0.40824829, -0.1814885 ,  0.04982278,  0.89325973],\n",
       "       [ 0.        ,  0.1088931 ,  0.99349591, -0.03328918],\n",
       "       [ 0.81649658,  0.50816781, -0.06462163, -0.26631346],\n",
       "       [ 0.40824829, -0.83484711,  0.07942048, -0.36063281]])"
      ]
     },
     "execution_count": 40,
     "metadata": {},
     "output_type": "execute_result"
    }
   ],
   "source": [
    "Vp = gsBasis4(V); Vp"
   ]
  },
  {
   "cell_type": "code",
   "execution_count": 41,
   "metadata": {},
   "outputs": [
    {
     "data": {
      "text/plain": [
       "1.0"
      ]
     },
     "execution_count": 41,
     "metadata": {},
     "output_type": "execute_result"
    }
   ],
   "source": [
    "la.norm(Vp[:,3])"
   ]
  },
  {
   "cell_type": "code",
   "execution_count": 31,
   "metadata": {},
   "outputs": [
    {
     "data": {
      "text/plain": [
       "(4, 4)"
      ]
     },
     "execution_count": 31,
     "metadata": {},
     "output_type": "execute_result"
    }
   ],
   "source": [
    "Vp.shape"
   ]
  },
  {
   "cell_type": "code",
   "execution_count": 35,
   "metadata": {},
   "outputs": [
    {
     "data": {
      "text/plain": [
       "array([[ 0.40824829, -0.1814885 ,  0.04982278,  0.89325973],\n",
       "       [ 0.        ,  0.1088931 ,  0.99349591, -0.03328918],\n",
       "       [ 0.81649658,  0.50816781, -0.06462163, -0.26631346],\n",
       "       [ 0.40824829, -0.83484711,  0.07942048, -0.36063281]])"
      ]
     },
     "execution_count": 35,
     "metadata": {},
     "output_type": "execute_result"
    }
   ],
   "source": [
    "gsBasis(V)"
   ]
  },
  {
   "cell_type": "code",
   "execution_count": 44,
   "metadata": {},
   "outputs": [],
   "source": [
    "U = np.array([[0,0,1],\n",
    "             [0,1,1],\n",
    "             [1,1,0],\n",
    "             [1,0,0]], dtype=np.float_)"
   ]
  },
  {
   "cell_type": "code",
   "execution_count": 45,
   "metadata": {},
   "outputs": [
    {
     "data": {
      "text/plain": [
       "array([[0., 0., 1.],\n",
       "       [0., 1., 1.],\n",
       "       [1., 1., 0.],\n",
       "       [1., 0., 0.]])"
      ]
     },
     "execution_count": 45,
     "metadata": {},
     "output_type": "execute_result"
    }
   ],
   "source": [
    "U"
   ]
  },
  {
   "cell_type": "code",
   "execution_count": 46,
   "metadata": {},
   "outputs": [
    {
     "data": {
      "text/plain": [
       "array([[ 0.        ,  0.        ,  0.8660254 ],\n",
       "       [ 0.        ,  0.81649658,  0.28867513],\n",
       "       [ 0.70710678,  0.40824829, -0.28867513],\n",
       "       [ 0.70710678, -0.40824829,  0.28867513]])"
      ]
     },
     "execution_count": 46,
     "metadata": {},
     "output_type": "execute_result"
    }
   ],
   "source": [
    "gsBasis(U)"
   ]
  },
  {
   "cell_type": "code",
   "execution_count": 56,
   "metadata": {},
   "outputs": [
    {
     "data": {
      "text/plain": [
       "4.0"
      ]
     },
     "execution_count": 56,
     "metadata": {},
     "output_type": "execute_result"
    }
   ],
   "source": [
    "dimension(V)"
   ]
  },
  {
   "cell_type": "code",
   "execution_count": 58,
   "metadata": {},
   "outputs": [
    {
     "data": {
      "text/plain": [
       "array([1., 1., 1., 1.])"
      ]
     },
     "execution_count": 58,
     "metadata": {},
     "output_type": "execute_result"
    }
   ],
   "source": [
    "la.norm(gsBasis(V), axis=0)"
   ]
  },
  {
   "cell_type": "code",
   "execution_count": 61,
   "metadata": {},
   "outputs": [
    {
     "data": {
      "text/plain": [
       "array([[0.70710678, 0.        , 0.        ],\n",
       "       [0.        , 1.        , 0.        ],\n",
       "       [0.70710678, 0.        , 0.        ]])"
      ]
     },
     "execution_count": 61,
     "metadata": {},
     "output_type": "execute_result"
    }
   ],
   "source": [
    "# Now let's see what happens when we have one vector that is a linear combination of the others.\n",
    "C = np.array([[1,0,2],\n",
    "              [0,1,-3],\n",
    "              [1,0,2]], dtype=np.float_)\n",
    "gsBasis3(C)"
   ]
  },
  {
   "cell_type": "code",
   "execution_count": 76,
   "metadata": {},
   "outputs": [
    {
     "data": {
      "text/plain": [
       "array([[0.70710678, 0.        , 0.        ],\n",
       "       [0.        , 1.        , 0.        ],\n",
       "       [0.70710678, 0.        , 0.        ]])"
      ]
     },
     "execution_count": 76,
     "metadata": {},
     "output_type": "execute_result"
    }
   ],
   "source": [
    "gsBasis(C)"
   ]
  },
  {
   "cell_type": "code",
   "execution_count": 64,
   "metadata": {},
   "outputs": [
    {
     "data": {
      "text/plain": [
       "array([1., 1., 0.])"
      ]
     },
     "execution_count": 64,
     "metadata": {},
     "output_type": "execute_result"
    }
   ],
   "source": [
    "la.norm(gsBasis3(C), axis=0)"
   ]
  },
  {
   "cell_type": "code",
   "execution_count": 74,
   "metadata": {},
   "outputs": [
    {
     "name": "stdout",
     "output_type": "stream",
     "text": [
      "1 0\n",
      "2 0\n",
      "2 1\n"
     ]
    }
   ],
   "source": [
    "for i in range(C.shape[1]): \n",
    "    for j in range(i):\n",
    "        print(i,j)"
   ]
  },
  {
   "cell_type": "code",
   "execution_count": 68,
   "metadata": {},
   "outputs": [
    {
     "data": {
      "text/plain": [
       "range(0, 3)"
      ]
     },
     "execution_count": 68,
     "metadata": {},
     "output_type": "execute_result"
    }
   ],
   "source": [
    "i"
   ]
  },
  {
   "cell_type": "code",
   "execution_count": 71,
   "metadata": {},
   "outputs": [
    {
     "name": "stdout",
     "output_type": "stream",
     "text": [
      "0\n",
      "1\n"
     ]
    }
   ],
   "source": [
    "for j in range(i): print(j)"
   ]
  },
  {
   "cell_type": "code",
   "execution_count": null,
   "metadata": {},
   "outputs": [],
   "source": []
  }
 ],
 "metadata": {
  "kernelspec": {
   "display_name": "Python 3",
   "language": "python",
   "name": "python3"
  },
  "language_info": {
   "codemirror_mode": {
    "name": "ipython",
    "version": 3
   },
   "file_extension": ".py",
   "mimetype": "text/x-python",
   "name": "python",
   "nbconvert_exporter": "python",
   "pygments_lexer": "ipython3",
   "version": "3.6.4"
  }
 },
 "nbformat": 4,
 "nbformat_minor": 2
}
